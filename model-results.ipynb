{
 "cells": [
  {
   "cell_type": "markdown",
   "metadata": {},
   "source": [
    "Model_0 : has 3 linear layers, (108,256), (256,128), (128,73), with learning rate 0.001 and 1 epoch trained only on seq0.\n",
    "\n",
    "Test results. not done yet"
   ]
  },
  {
   "cell_type": "code",
   "execution_count": null,
   "metadata": {
    "vscode": {
     "languageId": "plaintext"
    }
   },
   "outputs": [],
   "source": [
    "rnn_4layer_512_1.pth: \n",
    "self.layers = torch.nn.Sequential(torch.nn.Linear(108, 512),\n",
    "                                          torch.nn.ReLU(),\n",
    "                                          torch.nn.Linear(512, 256),\n",
    "                                          torch.nn.ReLU(),\n",
    "                                          torch.nn.Linear(256, 128),\n",
    "                                          torch.nn.ReLU(),\n",
    "                                          torch.nn.Linear(128, 73))\n",
    "\n",
    "train accuracy after 1 epoch: \n",
    "Batch 79 accuracy: 0.4583333333333333\n",
    "Epoch 1/1, Loss: 1.6138, Last Batch Accuracy: 45.83%"
   ]
  },
  {
   "cell_type": "code",
   "execution_count": null,
   "metadata": {
    "vscode": {
     "languageId": "plaintext"
    }
   },
   "outputs": [],
   "source": [
    "rnn_4layer_256_1.pth: \n",
    "self.layers = torch.nn.Sequential(torch.nn.Linear(108, 256),\n",
    "                                          torch.nn.ReLU(),\n",
    "                                          torch.nn.Linear(256, 256),\n",
    "                                          torch.nn.ReLU(),\n",
    "                                          torch.nn.Linear(256, 128),\n",
    "                                          torch.nn.ReLU(),\n",
    "                                          torch.nn.Linear(128, 73))\n",
    "train accuracy : \n",
    "\n",
    "    On Seq0 Set\n",
    "    Epoch 1/1,  Last Batch Accuracy: 46%\n",
    "\n",
    "    Epoch 2, Loss: 1.5749, Last Batch Accuracy: 47.76%\n",
    "\n",
    "    Epoch 4, Loss: 1.2097, Last Batch Accuracy: 60.57%\n",
    "    Last Batch Accuracy: 61.11% epoch 6\n",
    "\n",
    "    On Seq1 Set\n",
    "    Epoch 8, Loss: 1.0166, Last Batch Accuracy: 67.30%\n",
    "    Epoch 10, Loss: 0.9957, Last Batch Accuracy: 67.30%\n",
    "\n",
    "    On Seq2 Set\n",
    "    Epoch 12, Loss: 0.9111, Last Batch Accuracy: 69.21%\n",
    "\n",
    "    On seq3 Set\n",
    "    Epoch 14, Loss: 0.8276, Last Batch Accuracy: 71.01%\n",
    "\n",
    "    On seq4 Set\n",
    "    Epoch 16, Loss: 0.8919, Last Batch Accuracy: 70.52%\n",
    "\n",
    "    On Seq5 Set\n",
    "    Epoch 17, Loss: 0.7668, Last Batch Accuracy: 73.81%\n",
    "    Epoch 18, Loss: 0.8367, Last Batch Accuracy: 72.84%\n",
    "\n",
    "    on seq6 Set\n",
    "    epoch 20, Loss: 0.7688, Last Batch Accuracy: 75.45%\n",
    "\n",
    "    on seq7 Set\n",
    "    epoch 22, Loss: 0.7194, Last Batch Accuracy: 75.84%\n",
    "\n",
    "    on seq8 Set\n",
    "    epoch24, Loss: 0.7563, Last Batch Accuracy: 72.76%\n",
    "\n",
    "    On seq 9 Set\n",
    "    epoch 26, Loss: 0.7141, Last Batch Accuracy: 74.61%\n",
    "\n",
    "\n",
    "test accuracy:\n",
    "\n",
    "    epoch 6\n",
    "    Batch 79 accuracy: 0.6198654761904762\n",
    "    Total Test accuracy: 0.6447167952374037 , for 79 batch in total.\n",
    "\n",
    "    Epoch 12:\n",
    "    Batch 79 accuracy: 0.6928178571428572\n",
    "    Total Test accuracy: 0.7123067521764739 , for 79 batch in total.\n",
    "\n",
    "    Epoch 14:\n",
    "    Batch 79 accuracy: 0.7122666666666667\n",
    "    Total Test accuracy: 0.7298182150368241 , for 79 batch in total.\n",
    "\n",
    "    Epoch 18:\n",
    "    Batch 79 accuracy: 0.736402380952381\n",
    "    Total Test accuracy: 0.7523232623048444 , for 79 batch in total.\n",
    "\n",
    "    Epoch \n",
    "    Batch 79 accuracy: 0.7629952380952381\n",
    "    Total Test accuracy: 0.7753876246157533 , for 79 batch in total.\n",
    "\n",
    "\n",
    "\n"
   ]
  },
  {
   "cell_type": "markdown",
   "metadata": {},
   "source": []
  },
  {
   "cell_type": "markdown",
   "metadata": {},
   "source": []
  },
  {
   "cell_type": "markdown",
   "metadata": {},
   "source": []
  },
  {
   "cell_type": "markdown",
   "metadata": {},
   "source": []
  },
  {
   "cell_type": "markdown",
   "metadata": {},
   "source": []
  },
  {
   "cell_type": "markdown",
   "metadata": {},
   "source": []
  },
  {
   "cell_type": "markdown",
   "metadata": {},
   "source": []
  },
  {
   "cell_type": "markdown",
   "metadata": {},
   "source": []
  }
 ],
 "metadata": {
  "language_info": {
   "name": "python"
  }
 },
 "nbformat": 4,
 "nbformat_minor": 2
}
