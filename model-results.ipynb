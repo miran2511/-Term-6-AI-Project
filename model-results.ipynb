{
 "cells": [
  {
   "cell_type": "markdown",
   "metadata": {},
   "source": [
    "Model_0 : has 3 linear layers, (108,256), (256,128), (128,73), with learning rate 0.001 and 1 epoch trained only on seq0.\n",
    "\n",
    "Test results. not done yet"
   ]
  },
  {
   "cell_type": "code",
   "execution_count": null,
   "metadata": {
    "vscode": {
     "languageId": "plaintext"
    }
   },
   "outputs": [],
   "source": [
    "rnn_4layer_512_1.pth: \n",
    "self.layers = torch.nn.Sequential(torch.nn.Linear(108, 512),\n",
    "                                          torch.nn.ReLU(),\n",
    "                                          torch.nn.Linear(512, 256),\n",
    "                                          torch.nn.ReLU(),\n",
    "                                          torch.nn.Linear(256, 128),\n",
    "                                          torch.nn.ReLU(),\n",
    "                                          torch.nn.Linear(128, 73))\n",
    "\n",
    "train accuracy after 1 epoch: \n",
    "Batch 79 accuracy: 0.4583333333333333\n",
    "Epoch 1/1, Loss: 1.6138, Last Batch Accuracy: 45.83%"
   ]
  },
  {
   "cell_type": "code",
   "execution_count": null,
   "metadata": {
    "vscode": {
     "languageId": "plaintext"
    }
   },
   "outputs": [],
   "source": [
    "rnn_4layer_256_1.pth: \n",
    "self.layers = torch.nn.Sequential(torch.nn.Linear(108, 256),\n",
    "                                          torch.nn.ReLU(),\n",
    "                                          torch.nn.Linear(256, 256),\n",
    "                                          torch.nn.ReLU(),\n",
    "                                          torch.nn.Linear(256, 128),\n",
    "                                          torch.nn.ReLU(),\n",
    "                                          torch.nn.Linear(128, 73))\n",
    "train accuracy : \n",
    "\n",
    "    On Seq0 Set\n",
    "    Epoch 1/1,  Last Batch Accuracy: 46%\n",
    "\n",
    "    Epoch 2, Loss: 1.5749, Last Batch Accuracy: 47.76%\n",
    "\n",
    "    Epoch 4, Loss: 1.2097, Last Batch Accuracy: 60.57%\n",
    "    Last Batch Accuracy: 61.11% epoch 6\n",
    "\n",
    "    On Seq1 Set\n",
    "    Epoch 8, Loss: 1.0166, Last Batch Accuracy: 67.30%\n",
    "    Epoch 10, Loss: 0.9957, Last Batch Accuracy: 67.30%\n",
    "\n",
    "    On Seq2 Set\n",
    "    Epoch 12, Loss: 0.9111, Last Batch Accuracy: 69.21%\n",
    "\n",
    "    On seq3 Set\n",
    "    Epoch 14, Loss: 0.8276, Last Batch Accuracy: 71.01%\n",
    "\n",
    "    On seq4 Set\n",
    "    Epoch 16, Loss: 0.8919, Last Batch Accuracy: 70.52%\n",
    "\n",
    "    On Seq5 Set\n",
    "    Epoch 17, Loss: 0.7668, Last Batch Accuracy: 73.81%\n",
    "    Epoch 18, Loss: 0.8367, Last Batch Accuracy: 72.84%\n",
    "\n",
    "    on seq6 Set\n",
    "    epoch 20, Loss: 0.7688, Last Batch Accuracy: 75.45%\n",
    "\n",
    "    on seq7 Set\n",
    "    epoch 22, Loss: 0.7194, Last Batch Accuracy: 75.84%\n",
    "\n",
    "    on seq8 Set\n",
    "    epoch24, Loss: 0.7563, Last Batch Accuracy: 72.76%\n",
    "\n",
    "    On seq 9 Set\n",
    "    epoch 26, Loss: 0.7141, Last Batch Accuracy: 74.61%\n",
    "\n",
    "\n",
    "test accuracy:\n",
    "\n",
    "    epoch 6\n",
    "    Batch 79 accuracy: 0.6198654761904762\n",
    "    Total Test accuracy: 0.6447167952374037 , for 79 batch in total.\n",
    "\n",
    "    Epoch 12:\n",
    "    Batch 79 accuracy: 0.6928178571428572\n",
    "    Total Test accuracy: 0.7123067521764739 , for 79 batch in total.\n",
    "\n",
    "    Epoch 14:\n",
    "    Batch 79 accuracy: 0.7122666666666667\n",
    "    Total Test accuracy: 0.7298182150368241 , for 79 batch in total.\n",
    "\n",
    "    Epoch 18:\n",
    "    Batch 79 accuracy: 0.736402380952381\n",
    "    Total Test accuracy: 0.7523232623048444 , for 79 batch in total.\n",
    "\n",
    "    Epoch \n",
    "    Batch 79 accuracy: 0.7629952380952381\n",
    "    Total Test accuracy: 0.7753876246157533 , for 79 batch in total.\n",
    "\n",
    "\n",
    "\n",
    "final round:\n",
    "    (lr=0.0001)\n",
    "    epoch 27, seq0, Loss: 0.7060, Last Batch Accuracy: 76.39%, Total Test accuracy: 0.7766525232160674 , for 79 batch in total.\n",
    "    epoch 28, seq1, Loss: 0.6856, Last Batch Accuracy: 77.13%, Total Test accuracy: 0.7782729249816348 , for 79 batch in total.\n",
    "    epoch 29, seq2, Loss: 0.6958, Last Batch Accuracy: 75.91%, Total Test accuracy: 0.7788697051298045 , for 79 batch in total.\n",
    "    epoch 30, seq3, Loss: 0.7068, Last Batch Accuracy: 76.36%, Total Test accuracy: 0.7796011632899174 , for 79 batch in total.\n",
    "    epoch 32, seq4, Loss: 0.6758, Last Batch Accuracy: 76.31%, Total Test accuracy: 0.7804146798507565 , for 79 batch in total.\n",
    "    epoch 33, seq5, Loss: 0.6463, Last Batch Accuracy: 78.12%, Total Test accuracy: 0.7807926060251639 , for 79 batch in total.\n",
    "    epoch 34, seq6, Loss: 0.6453, Last Batch Accuracy: 76.28%, Total Test accuracy: 0.7818426833436317 , for 79 batch in total.\n",
    "    epoch 35, seq7, Loss: 0.7094, Last Batch Accuracy: 76.30%, Total Test accuracy: 0.7826494682644726 , for 79 batch in total.\n",
    "    epoch 36, seq8, Loss: 0.6935, Last Batch Accuracy: 75.31%, Total Test accuracy: 0.7833398174880739 , for 79 batch in total.\n",
    "    epoch 37, seq9, Loss: 0.6451, Last Batch Accuracy: 77.31%, Total Test accuracy: 0.7837504021931515 , for 79 batch in total.\n",
    "\n"
   ]
  },
  {
   "cell_type": "markdown",
   "metadata": {},
   "source": [
    "rnn_2layer_64_10epoch.pth:\n",
    "self.layers = torch.nn.Sequential(torch.nn.Linear(108, 64),\n",
    "                                          torch.nn.ReLU(),\n",
    "                                          torch.nn.Linear(64, 73))\n",
    "Batch 79 accuracy: 0.4243827160493827\n",
    "Epoch 1/1, Loss: 1.7777, Last Batch Accuracy: 42.44%\n",
    "\n",
    "\n",
    "Epoch 1/10, Loss: 1.8297, Last Batch Accuracy: 41.98%\n",
    "Epoch 2/10, Loss: 1.6464, Last Batch Accuracy: 46.99%\n",
    "Epoch 4/10, Loss: 1.4586, Last Batch Accuracy: 53.01%\n",
    "Epoch 6/10, Loss: 1.3559, Last Batch Accuracy: 57.48%\n",
    "Epoch 8/10, Loss: 1.2565, Last Batch Accuracy: 58.80%\n",
    "Epoch 10/10, Loss: 1.2325, Last Batch Accuracy: 59.72%"
   ]
  },
  {
   "cell_type": "markdown",
   "metadata": {},
   "source": [
    "rnn_3layer_256_1epoch.pth:\n",
    "self.layers = torch.nn.Sequential(torch.nn.Linear(108, 256),\n",
    "                                          torch.nn.ReLU(),\n",
    "                                          torch.nn.Linear(256, 128),\n",
    "                                          torch.nn.ReLU(),\n",
    "                                          torch.nn.Linear(128, 73))\n",
    "Epoch 1/1, Loss: 1.6336, Last Batch Accuracy: 46.84%"
   ]
  },
  {
   "cell_type": "markdown",
   "metadata": {},
   "source": [
    "rnn_3layer_512.pth:\n",
    "self.layers = torch.nn.Sequential(torch.nn.Linear(108, 512),\n",
    "                                          torch.nn.ReLU(),\n",
    "                                          torch.nn.Linear(512, 128),\n",
    "                                          torch.nn.ReLU(),\n",
    "                                          torch.nn.Linear(128, 73))\n",
    "Epoch 1/1, Loss: 1.5683, Last Batch Accuracy: 49.38%"
   ]
  },
  {
   "cell_type": "markdown",
   "metadata": {},
   "source": []
  },
  {
   "cell_type": "markdown",
   "metadata": {},
   "source": []
  },
  {
   "cell_type": "markdown",
   "metadata": {},
   "source": []
  },
  {
   "cell_type": "markdown",
   "metadata": {},
   "source": []
  },
  {
   "cell_type": "markdown",
   "metadata": {},
   "source": []
  },
  {
   "cell_type": "markdown",
   "metadata": {},
   "source": []
  }
 ],
 "metadata": {
  "language_info": {
   "name": "python"
  }
 },
 "nbformat": 4,
 "nbformat_minor": 2
}
