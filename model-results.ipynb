{
 "cells": [
  {
   "cell_type": "markdown",
   "metadata": {},
   "source": [
    "Model_0 : has 3 linear layers, (108,256), (256,128), (128,73), with learning rate 0.001 and 1 epoch trained only on seq0.\n",
    "\n",
    "Test results. not done yet"
   ]
  },
  {
   "cell_type": "code",
   "execution_count": null,
   "metadata": {
    "vscode": {
     "languageId": "plaintext"
    }
   },
   "outputs": [],
   "source": [
    "rnn_4layer_512_1.pth: \n",
    "self.layers = torch.nn.Sequential(torch.nn.Linear(108, 512),\n",
    "                                          torch.nn.ReLU(),\n",
    "                                          torch.nn.Linear(512, 256),\n",
    "                                          torch.nn.ReLU(),\n",
    "                                          torch.nn.Linear(256, 128),\n",
    "                                          torch.nn.ReLU(),\n",
    "                                          torch.nn.Linear(128, 73))\n",
    "\n",
    "train accuracy after 1 epoch: \n",
    "Batch 79 accuracy: 0.4583333333333333\n",
    "Epoch 1/1, Loss: 1.6138, Last Batch Accuracy: 45.83%"
   ]
  },
  {
   "cell_type": "code",
   "execution_count": null,
   "metadata": {
    "vscode": {
     "languageId": "plaintext"
    }
   },
   "outputs": [],
   "source": [
    "rnn_4layer_256_1.pth: \n",
    "self.layers = torch.nn.Sequential(torch.nn.Linear(108, 256),\n",
    "                                          torch.nn.ReLU(),\n",
    "                                          torch.nn.Linear(256, 256),\n",
    "                                          torch.nn.ReLU(),\n",
    "                                          torch.nn.Linear(256, 128),\n",
    "                                          torch.nn.ReLU(),\n",
    "                                          torch.nn.Linear(128, 73))\n",
    "train accuracy : \n",
    "\n",
    "Epoch 1/1,  Last Batch Accuracy: 46%\n",
    "\n",
    "Epoch 2, Loss: 1.5749, Last Batch Accuracy: 47.76%\n",
    "\n",
    "Epoch 4, Loss: 1.2097, Last Batch Accuracy: 60.57%\n",
    "Last Batch Accuracy: 61.11% epocg 6"
   ]
  },
  {
   "cell_type": "markdown",
   "metadata": {},
   "source": []
  },
  {
   "cell_type": "markdown",
   "metadata": {},
   "source": []
  },
  {
   "cell_type": "markdown",
   "metadata": {},
   "source": []
  },
  {
   "cell_type": "markdown",
   "metadata": {},
   "source": []
  },
  {
   "cell_type": "markdown",
   "metadata": {},
   "source": []
  },
  {
   "cell_type": "markdown",
   "metadata": {},
   "source": []
  },
  {
   "cell_type": "markdown",
   "metadata": {},
   "source": []
  },
  {
   "cell_type": "markdown",
   "metadata": {},
   "source": []
  }
 ],
 "metadata": {
  "language_info": {
   "name": "python"
  }
 },
 "nbformat": 4,
 "nbformat_minor": 2
}
