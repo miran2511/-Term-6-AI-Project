{
 "cells": [
  {
   "cell_type": "code",
   "execution_count": 1,
   "metadata": {},
   "outputs": [],
   "source": [
    "import pandas as pd\n",
    "import numpy as np\n",
    "\n",
    "inputFile = 'dataset/training.seq.99'"
   ]
  },
  {
   "cell_type": "code",
   "execution_count": 2,
   "metadata": {},
   "outputs": [],
   "source": [
    "df = pd.read_table(inputFile, header=None)\n",
    "df.columns = [\"state\"]\n",
    "new_df = pd.DataFrame({'state':df['state'].iloc[::2].values, 'step':df['state'].iloc[1::2].values})\n",
    "\n",
    "# new_df['change'] = (step == #).(bool is different from previous bool) & (sep == # bool but shift down one row)\n",
    "new_df['change'] = new_df.step.eq(\"#\").diff() & new_df.step.shift().eq(\"#\")\n",
    "new_df['sol'] = new_df[\"change\"].cumsum()\n",
    "\n",
    "#combine state and step into one column\n",
    "new_df['state'] = new_df['state'] + ',' + new_df['step']\n",
    "new_df.drop(columns=['step','change'],inplace=True)\n",
    "\n",
    "#make new dataframe with length of solution per sol\n",
    "a = new_df.groupby('sol').size().sort_values(ascending=True)\n",
    "a = pd.DataFrame(a)\n",
    "a.columns = [\"sol_len\"]\n",
    "\n",
    "#set new indices using indices of a\n",
    "out = new_df.set_index('sol').loc[a.index]\n",
    "\n",
    "#group by solution and unstck to pivot from rows to columns per step\n",
    "output = out.groupby('sol',sort=False)['state'].apply(lambda out: out.reset_index(drop=True)).unstack()"
   ]
  },
  {
   "cell_type": "code",
   "execution_count": 3,
   "metadata": {},
   "outputs": [],
   "source": [
    "# print(df)\n",
    "# change output files to match input name\n",
    "out.to_csv('dataset/training99.csv')\n",
    "output.to_csv('dataset/training99_sort.csv')"
   ]
  },
  {
   "cell_type": "code",
   "execution_count": null,
   "metadata": {},
   "outputs": [],
   "source": []
  }
 ],
 "metadata": {
  "kernelspec": {
   "display_name": "Python 3",
   "language": "python",
   "name": "python3"
  },
  "language_info": {
   "codemirror_mode": {
    "name": "ipython",
    "version": 3
   },
   "file_extension": ".py",
   "mimetype": "text/x-python",
   "name": "python",
   "nbconvert_exporter": "python",
   "pygments_lexer": "ipython3",
   "version": "3.10.5"
  }
 },
 "nbformat": 4,
 "nbformat_minor": 2
}
